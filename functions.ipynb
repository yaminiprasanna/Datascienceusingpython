{
 "cells": [
  {
   "cell_type": "code",
   "execution_count": null,
   "metadata": {
    "collapsed": true
   },
   "outputs": [],
   "source": [
    "def function_name(arguments):\n",
    "    docstring\n",
    "    body of the function\n",
    "    return value\n",
    "receiving_variable=function_name(args)"
   ]
  },
  {
   "cell_type": "code",
   "execution_count": 1,
   "metadata": {
    "collapsed": false
   },
   "outputs": [
    {
     "name": "stdout",
     "output_type": "stream",
     "text": [
      "addition of a and b is 5\n"
     ]
    }
   ],
   "source": [
    "//required arugument//\n",
    "def add(a,b):\n",
    "    'this function is used to perform addition of two numbers'\n",
    "    return a + b\n",
    "c=add(2,3)\n",
    "print(\"addition of a and b is\",c)"
   ]
  },
  {
   "cell_type": "code",
   "execution_count": 4,
   "metadata": {
    "collapsed": false
   },
   "outputs": [
    {
     "name": "stdout",
     "output_type": "stream",
     "text": [
      "0\n",
      "1\n",
      "2\n"
     ]
    }
   ],
   "source": [
    "//default value//\n",
    "def sub(a=0,b=0):\n",
    "    return a-b\n",
    "print(sub())\n",
    "print(sub(1))\n",
    "print(sub(3,1))"
   ]
  },
  {
   "cell_type": "code",
   "execution_count": 5,
   "metadata": {
    "collapsed": false
   },
   "outputs": [
    {
     "name": "stdout",
     "output_type": "stream",
     "text": [
      "-1\n"
     ]
    }
   ],
   "source": [
    "def sub(a,b=0):\n",
    "    return a-b\n",
    "print(sub(0,1))"
   ]
  },
  {
   "cell_type": "code",
   "execution_count": 9,
   "metadata": {
    "collapsed": false
   },
   "outputs": [
    {
     "name": "stdout",
     "output_type": "stream",
     "text": [
      "0\n",
      "-32\n"
     ]
    }
   ],
   "source": [
    "//key arugument//\n",
    "def sub(a,b,c=0):\n",
    "    return a-b-c\n",
    "print(sub(2,b=2))\n",
    "print(sub(c=33,b=2,a=3))"
   ]
  },
  {
   "cell_type": "code",
   "execution_count": 14,
   "metadata": {
    "collapsed": false
   },
   "outputs": [
    {
     "name": "stdout",
     "output_type": "stream",
     "text": [
      "5\n",
      "9\n",
      "54\n"
     ]
    }
   ],
   "source": [
    "//variable length argument//\n",
    "def add(a,b,*arg):\n",
    "    c = a + b\n",
    "    for x in arg:\n",
    "        c= c + x\n",
    "    return c\n",
    "print(add(2,3))\n",
    "print(add(2,3,4))\n",
    "print(add(2,3,4,5,6,7,8,9,10))"
   ]
  },
  {
   "cell_type": "code",
   "execution_count": null,
   "metadata": {
    "collapsed": true
   },
   "outputs": [],
   "source": []
  }
 ],
 "metadata": {
  "anaconda-cloud": {},
  "kernelspec": {
   "display_name": "Python [conda root]",
   "language": "python",
   "name": "conda-root-py"
  },
  "language_info": {
   "codemirror_mode": {
    "name": "ipython",
    "version": 3
   },
   "file_extension": ".py",
   "mimetype": "text/x-python",
   "name": "python",
   "nbconvert_exporter": "python",
   "pygments_lexer": "ipython3",
   "version": "3.5.2"
  }
 },
 "nbformat": 4,
 "nbformat_minor": 1
}
